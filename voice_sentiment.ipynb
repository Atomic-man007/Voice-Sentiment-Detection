# importing necessary libraries

import warnings
warnings.filterwarnings("ignore")

import numpy as np
import pandas as pd
import matplotlib.pyplot as plt
%matplotlib inline
from glob import glob

import librosa
import librosa.display
from IPython import display

#1. Load an audio file
#We will load the audio file using librosa.load() method. This method returns a tuple. The first element of the tuple is a numpy array and the second element of the tuple is an integer which is sample rate.
audio_files = glob("/kaggle/input/audio-speech-sentiment/TRAIN/*.wav")
